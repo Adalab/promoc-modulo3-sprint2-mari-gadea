{
 "cells": [
  {
   "cell_type": "code",
   "execution_count": 192,
   "metadata": {},
   "outputs": [],
   "source": [
    "import numpy as np\n",
    "import pandas as pd\n",
    "import datetime as dt\n",
    "\n",
    "import matplotlib.pyplot as plt\n",
    "from matplotlib import style\n",
    "import matplotlib.ticker as ticker\n",
    "import seaborn as sns\n",
    "\n",
    "from statsmodels.tools.tools import add_constant\n",
    "from statsmodels.stats.outliers_influence import variance_inflation_factor\n",
    "\n",
    "from scipy import stats\n",
    "import math\n",
    "from scipy.stats import levene\n",
    "import researchpy as rp\n",
    "from sklearn.preprocessing import StandardScaler\n",
    "import itertools\n",
    "\n",
    "import statsmodels.api as sm\n",
    "from statsmodels.formula.api import ols\n",
    "\n",
    "from sklearn.linear_model import LinearRegression\n",
    "from sklearn.model_selection import train_test_split\n",
    "from sklearn import metrics\n",
    "\n",
    "import warnings\n",
    "warnings.filterwarnings('ignore')\n",
    "\n",
    "plt.rcParams[\"figure.figsize\"] = (10,8)"
   ]
  },
  {
   "cell_type": "code",
   "execution_count": 193,
   "metadata": {},
   "outputs": [
    {
     "data": {
      "text/html": [
       "<div>\n",
       "<style scoped>\n",
       "    .dataframe tbody tr th:only-of-type {\n",
       "        vertical-align: middle;\n",
       "    }\n",
       "\n",
       "    .dataframe tbody tr th {\n",
       "        vertical-align: top;\n",
       "    }\n",
       "\n",
       "    .dataframe thead th {\n",
       "        text-align: right;\n",
       "    }\n",
       "</style>\n",
       "<table border=\"1\" class=\"dataframe\">\n",
       "  <thead>\n",
       "    <tr style=\"text-align: right;\">\n",
       "      <th></th>\n",
       "      <th>tier</th>\n",
       "      <th>rank</th>\n",
       "      <th>name</th>\n",
       "    </tr>\n",
       "  </thead>\n",
       "  <tbody>\n",
       "    <tr>\n",
       "      <th>0</th>\n",
       "      <td>1</td>\n",
       "      <td>1</td>\n",
       "      <td>Raymond</td>\n",
       "    </tr>\n",
       "    <tr>\n",
       "      <th>1</th>\n",
       "      <td>1</td>\n",
       "      <td>2</td>\n",
       "      <td>Marshal</td>\n",
       "    </tr>\n",
       "    <tr>\n",
       "      <th>2</th>\n",
       "      <td>1</td>\n",
       "      <td>3</td>\n",
       "      <td>Shino</td>\n",
       "    </tr>\n",
       "    <tr>\n",
       "      <th>3</th>\n",
       "      <td>1</td>\n",
       "      <td>4</td>\n",
       "      <td>Sherb</td>\n",
       "    </tr>\n",
       "    <tr>\n",
       "      <th>4</th>\n",
       "      <td>1</td>\n",
       "      <td>5</td>\n",
       "      <td>Sasha</td>\n",
       "    </tr>\n",
       "  </tbody>\n",
       "</table>\n",
       "</div>"
      ],
      "text/plain": [
       "   tier  rank     name\n",
       "0     1     1  Raymond\n",
       "1     1     2  Marshal\n",
       "2     1     3    Shino\n",
       "3     1     4    Sherb\n",
       "4     1     5    Sasha"
      ]
     },
     "execution_count": 193,
     "metadata": {},
     "output_type": "execute_result"
    }
   ],
   "source": [
    "popul_df = pd.read_csv('csv/acnh_villager_data.csv')\n",
    "popul_df.head()"
   ]
  },
  {
   "attachments": {},
   "cell_type": "markdown",
   "metadata": {},
   "source": [
    "### Créditos a EMPYRR en Kaggle por la depuración:\n",
    "\n",
    "[Fuente](https://www.kaggle.com/code/ampiiere/animal-crossing-villager-popularity-analysis)\n",
    "\n"
   ]
  },
  {
   "cell_type": "code",
   "execution_count": 194,
   "metadata": {},
   "outputs": [
    {
     "data": {
      "text/html": [
       "<div>\n",
       "<style scoped>\n",
       "    .dataframe tbody tr th:only-of-type {\n",
       "        vertical-align: middle;\n",
       "    }\n",
       "\n",
       "    .dataframe tbody tr th {\n",
       "        vertical-align: top;\n",
       "    }\n",
       "\n",
       "    .dataframe thead th {\n",
       "        text-align: right;\n",
       "    }\n",
       "</style>\n",
       "<table border=\"1\" class=\"dataframe\">\n",
       "  <thead>\n",
       "    <tr style=\"text-align: right;\">\n",
       "      <th></th>\n",
       "      <th>ID</th>\n",
       "      <th>Name</th>\n",
       "      <th>Species</th>\n",
       "      <th>Gender</th>\n",
       "      <th>Personality</th>\n",
       "      <th>Subtype</th>\n",
       "      <th>Hobby</th>\n",
       "      <th>Birthday</th>\n",
       "      <th>Style 1</th>\n",
       "      <th>Style 2</th>\n",
       "      <th>Color 1</th>\n",
       "      <th>Color 2</th>\n",
       "      <th>Type</th>\n",
       "    </tr>\n",
       "  </thead>\n",
       "  <tbody>\n",
       "    <tr>\n",
       "      <th>0</th>\n",
       "      <td>0</td>\n",
       "      <td>Admiral</td>\n",
       "      <td>Bird</td>\n",
       "      <td>Male</td>\n",
       "      <td>Cranky</td>\n",
       "      <td>A</td>\n",
       "      <td>Nature</td>\n",
       "      <td>1-27</td>\n",
       "      <td>Cool</td>\n",
       "      <td>Cool</td>\n",
       "      <td>Black</td>\n",
       "      <td>Blue</td>\n",
       "      <td>Bird</td>\n",
       "    </tr>\n",
       "    <tr>\n",
       "      <th>1</th>\n",
       "      <td>1</td>\n",
       "      <td>Agent S</td>\n",
       "      <td>Squirrel</td>\n",
       "      <td>Female</td>\n",
       "      <td>Peppy</td>\n",
       "      <td>B</td>\n",
       "      <td>Fitness</td>\n",
       "      <td>7-2</td>\n",
       "      <td>Active</td>\n",
       "      <td>Simple</td>\n",
       "      <td>Blue</td>\n",
       "      <td>Black</td>\n",
       "      <td>Mammal</td>\n",
       "    </tr>\n",
       "    <tr>\n",
       "      <th>2</th>\n",
       "      <td>2</td>\n",
       "      <td>Agnes</td>\n",
       "      <td>Pig</td>\n",
       "      <td>Female</td>\n",
       "      <td>Big Sister</td>\n",
       "      <td>A</td>\n",
       "      <td>Play</td>\n",
       "      <td>4-21</td>\n",
       "      <td>Simple</td>\n",
       "      <td>Elegant</td>\n",
       "      <td>Pink</td>\n",
       "      <td>White</td>\n",
       "      <td>Mammal</td>\n",
       "    </tr>\n",
       "    <tr>\n",
       "      <th>3</th>\n",
       "      <td>3</td>\n",
       "      <td>Al</td>\n",
       "      <td>Gorilla</td>\n",
       "      <td>Male</td>\n",
       "      <td>Lazy</td>\n",
       "      <td>B</td>\n",
       "      <td>Fitness</td>\n",
       "      <td>10-18</td>\n",
       "      <td>Active</td>\n",
       "      <td>Active</td>\n",
       "      <td>Red</td>\n",
       "      <td>White</td>\n",
       "      <td>Mammal</td>\n",
       "    </tr>\n",
       "    <tr>\n",
       "      <th>4</th>\n",
       "      <td>4</td>\n",
       "      <td>Alfonso</td>\n",
       "      <td>Alligator</td>\n",
       "      <td>Male</td>\n",
       "      <td>Lazy</td>\n",
       "      <td>B</td>\n",
       "      <td>Play</td>\n",
       "      <td>6-9</td>\n",
       "      <td>Simple</td>\n",
       "      <td>Simple</td>\n",
       "      <td>Red</td>\n",
       "      <td>Blue</td>\n",
       "      <td>Amphibian</td>\n",
       "    </tr>\n",
       "  </tbody>\n",
       "</table>\n",
       "</div>"
      ],
      "text/plain": [
       "   ID     Name    Species  Gender Personality Subtype    Hobby Birthday  \\\n",
       "0   0  Admiral       Bird    Male      Cranky       A   Nature     1-27   \n",
       "1   1  Agent S   Squirrel  Female       Peppy       B  Fitness      7-2   \n",
       "2   2    Agnes        Pig  Female  Big Sister       A     Play     4-21   \n",
       "3   3       Al    Gorilla    Male        Lazy       B  Fitness    10-18   \n",
       "4   4  Alfonso  Alligator    Male        Lazy       B     Play      6-9   \n",
       "\n",
       "  Style 1  Style 2 Color 1 Color 2       Type  \n",
       "0    Cool     Cool   Black    Blue       Bird  \n",
       "1  Active   Simple    Blue   Black     Mammal  \n",
       "2  Simple  Elegant    Pink   White     Mammal  \n",
       "3  Active   Active     Red   White     Mammal  \n",
       "4  Simple   Simple     Red    Blue  Amphibian  "
      ]
     },
     "execution_count": 194,
     "metadata": {},
     "output_type": "execute_result"
    }
   ],
   "source": [
    "vecines = pd.read_csv('csv/vecines_tipo.csv')\n",
    "vecines.head()"
   ]
  },
  {
   "cell_type": "code",
   "execution_count": 195,
   "metadata": {},
   "outputs": [
    {
     "data": {
      "text/plain": [
       "27"
      ]
     },
     "execution_count": 195,
     "metadata": {},
     "output_type": "execute_result"
    }
   ],
   "source": [
    "#hay 27 nombres que no están en la lista\n",
    "no_match_names = popul_df[\"name\"][popul_df[\"name\"].isin(vecines[\"Name\"]) == False]\n",
    "len(no_match_names)"
   ]
  },
  {
   "cell_type": "code",
   "execution_count": 196,
   "metadata": {},
   "outputs": [
    {
     "data": {
      "text/plain": [
       "413"
      ]
     },
     "execution_count": 196,
     "metadata": {},
     "output_type": "execute_result"
    }
   ],
   "source": [
    "#hay 413 nombres en el df de popu antes de borrarlos\n",
    "len(popul_df['name'].unique())"
   ]
  },
  {
   "cell_type": "code",
   "execution_count": null,
   "metadata": {},
   "outputs": [],
   "source": []
  },
  {
   "cell_type": "code",
   "execution_count": 197,
   "metadata": {},
   "outputs": [],
   "source": [
    "# Data set is small enough to pick out the same names\n",
    "# Correcting names in popul_df to match vlgr_df\n",
    "popul_df['name'] = popul_df['name'].replace(['OHare'],\"O\\'Hare\")\n",
    "popul_df['name'] = popul_df['name'].replace(['Buck(Brows)'],\"Buck\")\n",
    "popul_df['name'] = popul_df['name'].replace(['Renee'],\"Renée\")\n",
    "popul_df['name'] = popul_df['name'].replace(['WartJr'],\"Wart Jr.\")\n",
    "popul_df['name'] = popul_df['name'].replace(['Crackle(Spork)'],\"Spork\")"
   ]
  },
  {
   "cell_type": "code",
   "execution_count": 198,
   "metadata": {},
   "outputs": [
    {
     "data": {
      "text/plain": [
       "22"
      ]
     },
     "execution_count": 198,
     "metadata": {},
     "output_type": "execute_result"
    }
   ],
   "source": [
    "#vamos a ver cómo es ahora la lista de larga <3 \n",
    "no_match_names = popul_df[\"name\"][popul_df[\"name\"].isin(vecines[\"Name\"]) == False]\n",
    "len(no_match_names)"
   ]
  },
  {
   "cell_type": "code",
   "execution_count": 199,
   "metadata": {},
   "outputs": [],
   "source": [
    "popul_df['name'] = popul_df['name'][~popul_df['name'].isin(no_match_names)]"
   ]
  },
  {
   "cell_type": "code",
   "execution_count": 200,
   "metadata": {},
   "outputs": [
    {
     "data": {
      "text/plain": [
       "False"
      ]
     },
     "execution_count": 200,
     "metadata": {},
     "output_type": "execute_result"
    }
   ],
   "source": [
    "popul_df['name'].to_list() == vecines['Name'].to_list()"
   ]
  },
  {
   "cell_type": "code",
   "execution_count": 201,
   "metadata": {},
   "outputs": [
    {
     "data": {
      "text/plain": [
       "[nan]"
      ]
     },
     "execution_count": 201,
     "metadata": {},
     "output_type": "execute_result"
    }
   ],
   "source": [
    "list(set(popul_df['name'].to_list()).symmetric_difference(set(vecines['Name'].to_list())))"
   ]
  },
  {
   "cell_type": "code",
   "execution_count": 202,
   "metadata": {},
   "outputs": [
    {
     "data": {
      "text/plain": [
       "tier     0\n",
       "rank     0\n",
       "name    22\n",
       "dtype: int64"
      ]
     },
     "execution_count": 202,
     "metadata": {},
     "output_type": "execute_result"
    }
   ],
   "source": [
    "popul_df.isnull().sum()"
   ]
  },
  {
   "attachments": {},
   "cell_type": "markdown",
   "metadata": {},
   "source": [
    "Tras revisarlo, vemos que son los valores nulos los que hacen que los valores en ambas columnas no sean los mismos, así que vamos a borrarlos:"
   ]
  },
  {
   "cell_type": "code",
   "execution_count": 203,
   "metadata": {},
   "outputs": [],
   "source": [
    "popul_df.dropna(inplace=True)"
   ]
  },
  {
   "cell_type": "code",
   "execution_count": 204,
   "metadata": {},
   "outputs": [
    {
     "data": {
      "text/plain": [
       "tier    0\n",
       "rank    0\n",
       "name    0\n",
       "dtype: int64"
      ]
     },
     "execution_count": 204,
     "metadata": {},
     "output_type": "execute_result"
    }
   ],
   "source": [
    "popul_df.isnull().sum()"
   ]
  },
  {
   "cell_type": "code",
   "execution_count": 205,
   "metadata": {},
   "outputs": [
    {
     "data": {
      "text/plain": [
       "False"
      ]
     },
     "execution_count": 205,
     "metadata": {},
     "output_type": "execute_result"
    }
   ],
   "source": [
    "#esto sale falso, pero tienen la misma longitud y no se detectan diferencias con el symmetric diference,\n",
    "#así que lo dejamos así :-)\n",
    "popul_df['name'].to_list() == vecines['Name'].to_list()"
   ]
  },
  {
   "cell_type": "code",
   "execution_count": 206,
   "metadata": {},
   "outputs": [
    {
     "data": {
      "text/plain": [
       "True"
      ]
     },
     "execution_count": 206,
     "metadata": {},
     "output_type": "execute_result"
    }
   ],
   "source": [
    "len(popul_df['name']) == len(vecines['Name'])"
   ]
  },
  {
   "cell_type": "code",
   "execution_count": 207,
   "metadata": {},
   "outputs": [
    {
     "data": {
      "text/plain": [
       "[]"
      ]
     },
     "execution_count": 207,
     "metadata": {},
     "output_type": "execute_result"
    }
   ],
   "source": [
    "list(set(popul_df['name'].to_list()).symmetric_difference(set(vecines['Name'].to_list())))"
   ]
  },
  {
   "cell_type": "code",
   "execution_count": 208,
   "metadata": {},
   "outputs": [],
   "source": [
    "#guardamos en un csv just in case:\n",
    "popul_df.to_csv('csv/popularidad.csv')"
   ]
  },
  {
   "attachments": {},
   "cell_type": "markdown",
   "metadata": {},
   "source": [
    "¡Mergeamos!"
   ]
  },
  {
   "cell_type": "code",
   "execution_count": 209,
   "metadata": {},
   "outputs": [],
   "source": [
    "# drop villagers that are in popul_df but not in vlgr_df\n",
    "popul_df = popul_df.drop(popul_df[popul_df[\"name\"].isin(vecines[\"Name\"]) == False].index)"
   ]
  },
  {
   "cell_type": "code",
   "execution_count": 210,
   "metadata": {},
   "outputs": [],
   "source": [
    "# Now that both df have same length, we can set index as names and combine the 2 dfs\n",
    "popul_df.set_index('name', drop=True, inplace=True)\n",
    "vecines.set_index('Name', drop=True, inplace=True)"
   ]
  },
  {
   "cell_type": "code",
   "execution_count": 211,
   "metadata": {},
   "outputs": [],
   "source": [
    "vecines_popus = pd.merge(vecines, popul_df, right_index=True, left_index=True)"
   ]
  },
  {
   "cell_type": "code",
   "execution_count": 212,
   "metadata": {},
   "outputs": [
    {
     "data": {
      "text/plain": [
       "Index(['ID', 'Species', 'Gender', 'Personality', 'Subtype', 'Hobby',\n",
       "       'Birthday', 'Style 1', 'Style 2', 'Color 1', 'Color 2', 'Type', 'tier',\n",
       "       'rank'],\n",
       "      dtype='object')"
      ]
     },
     "execution_count": 212,
     "metadata": {},
     "output_type": "execute_result"
    }
   ],
   "source": [
    "vecines_popus.columns"
   ]
  },
  {
   "cell_type": "code",
   "execution_count": 213,
   "metadata": {},
   "outputs": [],
   "source": [
    "#esto es un ranking dentro de su tier, pero nos interesa también un rank en general\n",
    "vecines_popus.sort_values(['tier', 'rank'], inplace=True)\n",
    "vecines_popus['rank_overall'] = np.arange(1, len(vecines_popus)+1)"
   ]
  },
  {
   "cell_type": "code",
   "execution_count": 214,
   "metadata": {},
   "outputs": [
    {
     "data": {
      "text/html": [
       "<div>\n",
       "<style scoped>\n",
       "    .dataframe tbody tr th:only-of-type {\n",
       "        vertical-align: middle;\n",
       "    }\n",
       "\n",
       "    .dataframe tbody tr th {\n",
       "        vertical-align: top;\n",
       "    }\n",
       "\n",
       "    .dataframe thead th {\n",
       "        text-align: right;\n",
       "    }\n",
       "</style>\n",
       "<table border=\"1\" class=\"dataframe\">\n",
       "  <thead>\n",
       "    <tr style=\"text-align: right;\">\n",
       "      <th></th>\n",
       "      <th>ID</th>\n",
       "      <th>Species</th>\n",
       "      <th>Gender</th>\n",
       "      <th>Personality</th>\n",
       "      <th>Subtype</th>\n",
       "      <th>Hobby</th>\n",
       "      <th>Birthday</th>\n",
       "      <th>Style 1</th>\n",
       "      <th>Style 2</th>\n",
       "      <th>Color 1</th>\n",
       "      <th>Color 2</th>\n",
       "      <th>Type</th>\n",
       "      <th>tier</th>\n",
       "      <th>rank</th>\n",
       "      <th>rank_overall</th>\n",
       "    </tr>\n",
       "  </thead>\n",
       "  <tbody>\n",
       "    <tr>\n",
       "      <th>Raymond</th>\n",
       "      <td>298</td>\n",
       "      <td>Cat</td>\n",
       "      <td>Male</td>\n",
       "      <td>Smug</td>\n",
       "      <td>B</td>\n",
       "      <td>Nature</td>\n",
       "      <td>10-1</td>\n",
       "      <td>Elegant</td>\n",
       "      <td>Cool</td>\n",
       "      <td>Black</td>\n",
       "      <td>Gray</td>\n",
       "      <td>Mammal</td>\n",
       "      <td>1</td>\n",
       "      <td>1</td>\n",
       "      <td>1</td>\n",
       "    </tr>\n",
       "    <tr>\n",
       "      <th>Marshal</th>\n",
       "      <td>228</td>\n",
       "      <td>Squirrel</td>\n",
       "      <td>Male</td>\n",
       "      <td>Smug</td>\n",
       "      <td>A</td>\n",
       "      <td>Music</td>\n",
       "      <td>9-29</td>\n",
       "      <td>Elegant</td>\n",
       "      <td>Cool</td>\n",
       "      <td>Light blue</td>\n",
       "      <td>Blue</td>\n",
       "      <td>Mammal</td>\n",
       "      <td>1</td>\n",
       "      <td>2</td>\n",
       "      <td>2</td>\n",
       "    </tr>\n",
       "    <tr>\n",
       "      <th>Sherb</th>\n",
       "      <td>329</td>\n",
       "      <td>Goat</td>\n",
       "      <td>Male</td>\n",
       "      <td>Lazy</td>\n",
       "      <td>A</td>\n",
       "      <td>Nature</td>\n",
       "      <td>1-18</td>\n",
       "      <td>Simple</td>\n",
       "      <td>Cute</td>\n",
       "      <td>Gray</td>\n",
       "      <td>Blue</td>\n",
       "      <td>Mammal</td>\n",
       "      <td>1</td>\n",
       "      <td>4</td>\n",
       "      <td>3</td>\n",
       "    </tr>\n",
       "    <tr>\n",
       "      <th>Ankha</th>\n",
       "      <td>12</td>\n",
       "      <td>Cat</td>\n",
       "      <td>Female</td>\n",
       "      <td>Snooty</td>\n",
       "      <td>B</td>\n",
       "      <td>Nature</td>\n",
       "      <td>9-22</td>\n",
       "      <td>Gorgeous</td>\n",
       "      <td>Simple</td>\n",
       "      <td>Colorful</td>\n",
       "      <td>Brown</td>\n",
       "      <td>Mammal</td>\n",
       "      <td>1</td>\n",
       "      <td>7</td>\n",
       "      <td>4</td>\n",
       "    </tr>\n",
       "    <tr>\n",
       "      <th>Zucker</th>\n",
       "      <td>390</td>\n",
       "      <td>Octopus</td>\n",
       "      <td>Male</td>\n",
       "      <td>Lazy</td>\n",
       "      <td>A</td>\n",
       "      <td>Nature</td>\n",
       "      <td>3-8</td>\n",
       "      <td>Simple</td>\n",
       "      <td>Cute</td>\n",
       "      <td>Blue</td>\n",
       "      <td>Yellow</td>\n",
       "      <td>Amphibian</td>\n",
       "      <td>1</td>\n",
       "      <td>8</td>\n",
       "      <td>5</td>\n",
       "    </tr>\n",
       "  </tbody>\n",
       "</table>\n",
       "</div>"
      ],
      "text/plain": [
       "          ID   Species  Gender Personality Subtype   Hobby Birthday   Style 1  \\\n",
       "Raymond  298       Cat    Male        Smug       B  Nature     10-1   Elegant   \n",
       "Marshal  228  Squirrel    Male        Smug       A   Music     9-29   Elegant   \n",
       "Sherb    329      Goat    Male        Lazy       A  Nature     1-18    Simple   \n",
       "Ankha     12       Cat  Female      Snooty       B  Nature     9-22  Gorgeous   \n",
       "Zucker   390   Octopus    Male        Lazy       A  Nature      3-8    Simple   \n",
       "\n",
       "        Style 2     Color 1 Color 2       Type  tier  rank  rank_overall  \n",
       "Raymond    Cool       Black    Gray     Mammal     1     1             1  \n",
       "Marshal    Cool  Light blue    Blue     Mammal     1     2             2  \n",
       "Sherb      Cute        Gray    Blue     Mammal     1     4             3  \n",
       "Ankha    Simple    Colorful   Brown     Mammal     1     7             4  \n",
       "Zucker     Cute        Blue  Yellow  Amphibian     1     8             5  "
      ]
     },
     "execution_count": 214,
     "metadata": {},
     "output_type": "execute_result"
    }
   ],
   "source": [
    "vecines_popus.head()"
   ]
  },
  {
   "cell_type": "code",
   "execution_count": 215,
   "metadata": {},
   "outputs": [],
   "source": [
    "vecines_popus.to_csv('csv/vecines_popus_tipos.csv')"
   ]
  }
 ],
 "metadata": {
  "kernelspec": {
   "display_name": "base",
   "language": "python",
   "name": "python3"
  },
  "language_info": {
   "codemirror_mode": {
    "name": "ipython",
    "version": 3
   },
   "file_extension": ".py",
   "mimetype": "text/x-python",
   "name": "python",
   "nbconvert_exporter": "python",
   "pygments_lexer": "ipython3",
   "version": "3.9.7"
  },
  "orig_nbformat": 4,
  "vscode": {
   "interpreter": {
    "hash": "40d3a090f54c6569ab1632332b64b2c03c39dcf918b08424e98f38b5ae0af88f"
   }
  }
 },
 "nbformat": 4,
 "nbformat_minor": 2
}
